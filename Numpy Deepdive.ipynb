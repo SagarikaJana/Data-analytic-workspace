{
 "cells": [
  {
   "cell_type": "markdown",
   "metadata": {},
   "source": [
    "# Numpy deepdive\n"
   ]
  },
  {
   "cell_type": "code",
   "execution_count": null,
   "metadata": {},
   "outputs": [],
   "source": [
    "# Numpy - Numeric Python\n",
    "# Difference between using Numpy and Core Python\n",
    "# Numpy array object oriented computing\n",
    "# Efficient of using multi-dimensional arrays\n",
    "# Used for scientific computing\n"
   ]
  },
  {
   "cell_type": "code",
   "execution_count": 4,
   "metadata": {},
   "outputs": [],
   "source": [
    "import numpy as np\n",
    "list1 = [20.1,21.3,40.7,43.23,45.78]\n",
    "c = 2 * list1"
   ]
  },
  {
   "cell_type": "code",
   "execution_count": 5,
   "metadata": {},
   "outputs": [
    {
     "name": "stdout",
     "output_type": "stream",
     "text": [
      "[20.1, 21.3, 40.7, 43.23, 45.78, 20.1, 21.3, 40.7, 43.23, 45.78]\n"
     ]
    }
   ],
   "source": [
    "print(c)\n"
   ]
  },
  {
   "cell_type": "code",
   "execution_count": 9,
   "metadata": {},
   "outputs": [],
   "source": [
    "d = [x*2 for x in list1]\n"
   ]
  },
  {
   "cell_type": "code",
   "execution_count": 10,
   "metadata": {},
   "outputs": [
    {
     "data": {
      "text/plain": [
       "[40.2, 42.6, 81.4, 86.46, 91.56]"
      ]
     },
     "execution_count": 10,
     "metadata": {},
     "output_type": "execute_result"
    }
   ],
   "source": [
    "d"
   ]
  },
  {
   "cell_type": "code",
   "execution_count": 11,
   "metadata": {},
   "outputs": [],
   "source": [
    "e = np.array(list1)"
   ]
  },
  {
   "cell_type": "code",
   "execution_count": 12,
   "metadata": {},
   "outputs": [
    {
     "data": {
      "text/plain": [
       "array([20.1 , 21.3 , 40.7 , 43.23, 45.78])"
      ]
     },
     "execution_count": 12,
     "metadata": {},
     "output_type": "execute_result"
    }
   ],
   "source": [
    "e"
   ]
  },
  {
   "cell_type": "code",
   "execution_count": 13,
   "metadata": {},
   "outputs": [
    {
     "data": {
      "text/plain": [
       "numpy.ndarray"
      ]
     },
     "execution_count": 13,
     "metadata": {},
     "output_type": "execute_result"
    }
   ],
   "source": [
    "type(e)"
   ]
  },
  {
   "cell_type": "code",
   "execution_count": 17,
   "metadata": {},
   "outputs": [
    {
     "data": {
      "text/plain": [
       "array([40.2 , 42.6 , 81.4 , 86.46, 91.56])"
      ]
     },
     "execution_count": 17,
     "metadata": {},
     "output_type": "execute_result"
    }
   ],
   "source": [
    "f = e*2\n",
    "f"
   ]
  },
  {
   "cell_type": "code",
   "execution_count": 19,
   "metadata": {},
   "outputs": [
    {
     "data": {
      "image/png": "[encoded data removed]",
      "text/plain": [
       "<Figure size 432x288 with 1 Axes>"
      ]
     },
     "metadata": {
      "needs_background": "light"
     },
     "output_type": "display_data"
    }
   ],
   "source": [
    "import matplotlib.pyplot as plt\n",
    "plt.plot(f)\n",
    "plt.show()"
   ]
  },
  {
   "cell_type": "code",
   "execution_count": 28,
   "metadata": {},
   "outputs": [
    {
     "name": "stdout",
     "output_type": "stream",
     "text": [
      "[ 0  1  2  3  4  5  6  7  8  9 10 11 12 13 14]\n",
      "[[ 0  1  2  3  4  5  6  7  8  9 10 11 12 13 14 15 16 17 18 19]\n",
      " [20 21 22 23 24 25 26 27 28 29 30 31 32 33 34 35 36 37 38 39]\n",
      " [40 41 42 43 44 45 46 47 48 49 50 51 52 53 54 55 56 57 58 59]\n",
      " [60 61 62 63 64 65 66 67 68 69 70 71 72 73 74 75 76 77 78 79]\n",
      " [80 81 82 83 84 85 86 87 88 89 90 91 92 93 94 95 96 97 98 99]]\n",
      "[[[ 0  1  2  3  4]\n",
      "  [ 5  6  7  8  9]\n",
      "  [10 11 12 13 14]\n",
      "  [15 16 17 18 19]]\n",
      "\n",
      " [[20 21 22 23 24]\n",
      "  [25 26 27 28 29]\n",
      "  [30 31 32 33 34]\n",
      "  [35 36 37 38 39]]\n",
      "\n",
      " [[40 41 42 43 44]\n",
      "  [45 46 47 48 49]\n",
      "  [50 51 52 53 54]\n",
      "  [55 56 57 58 59]]\n",
      "\n",
      " [[60 61 62 63 64]\n",
      "  [65 66 67 68 69]\n",
      "  [70 71 72 73 74]\n",
      "  [75 76 77 78 79]]\n",
      "\n",
      " [[80 81 82 83 84]\n",
      "  [85 86 87 88 89]\n",
      "  [90 91 92 93 94]\n",
      "  [95 96 97 98 99]]]\n",
      "[[[[[  0   1   2   3   4]\n",
      "    [  5   6   7   8   9]\n",
      "    [ 10  11  12  13  14]]\n",
      "\n",
      "   [[ 15  16  17  18  19]\n",
      "    [ 20  21  22  23  24]\n",
      "    [ 25  26  27  28  29]]]\n",
      "\n",
      "\n",
      "  [[[ 30  31  32  33  34]\n",
      "    [ 35  36  37  38  39]\n",
      "    [ 40  41  42  43  44]]\n",
      "\n",
      "   [[ 45  46  47  48  49]\n",
      "    [ 50  51  52  53  54]\n",
      "    [ 55  56  57  58  59]]]]\n",
      "\n",
      "\n",
      "\n",
      " [[[[ 60  61  62  63  64]\n",
      "    [ 65  66  67  68  69]\n",
      "    [ 70  71  72  73  74]]\n",
      "\n",
      "   [[ 75  76  77  78  79]\n",
      "    [ 80  81  82  83  84]\n",
      "    [ 85  86  87  88  89]]]\n",
      "\n",
      "\n",
      "  [[[ 90  91  92  93  94]\n",
      "    [ 95  96  97  98  99]\n",
      "    [100 101 102 103 104]]\n",
      "\n",
      "   [[105 106 107 108 109]\n",
      "    [110 111 112 113 114]\n",
      "    [115 116 117 118 119]]]]]\n"
     ]
    }
   ],
   "source": [
    "a = np.arange(15)                         # 1d array\n",
    "print(a)\n",
    "\n",
    "\n",
    "b = np.arange(100).reshape(5,20)           # 2d array\n",
    "print(b)\n",
    "\n",
    "\n",
    "\n",
    "\n",
    "\n",
    "c = np.arange(100).reshape(5,4,5)         # 3d array\n",
    "print(c)\n",
    "\n",
    "d = np.arange(120).reshape(2,2,2,3,5)     # 5d array\n",
    "print(d)\n",
    "\n"
   ]
  },
  {
   "cell_type": "code",
   "execution_count": 29,
   "metadata": {},
   "outputs": [
    {
     "data": {
      "text/plain": [
       "array([ True,  True, False, False])"
      ]
     },
     "execution_count": 29,
     "metadata": {},
     "output_type": "execute_result"
    }
   ],
   "source": [
    "a = np.array( [20,30,40,50] )\n",
    "b = np.arange( 4 )\n",
    "b\n",
    "\n",
    "c = a-b\n",
    "c\n",
    "\n",
    "b**2\n",
    "\n",
    "10*np.sin(a)\n",
    "\n",
    "a<35\n"
   ]
  },
  {
   "cell_type": "code",
   "execution_count": 30,
   "metadata": {},
   "outputs": [
    {
     "data": {
      "text/plain": [
       "array([[ 6,  6],\n",
       "       [14, 14]])"
      ]
     },
     "execution_count": 30,
     "metadata": {},
     "output_type": "execute_result"
    }
   ],
   "source": [
    "A = np.array( [[1,2],[3,4]] )\n",
    "B = np.array( [[2,2],[2,2]] )\n",
    "A * B                       # elementwise product\n",
    "\n",
    "\n",
    "A @ B                       # matrix product\n",
    "\n",
    "\n",
    "A.dot(B)                    # another matrix product\n"
   ]
  },
  {
   "cell_type": "code",
   "execution_count": 36,
   "metadata": {},
   "outputs": [
    {
     "name": "stdout",
     "output_type": "stream",
     "text": [
      "[[0.90494972 0.71417966 0.76258162]\n",
      " [0.9216468  0.20119903 0.29040278]]\n",
      "[0 1 2 3 4]\n",
      "10\n",
      "0\n",
      "4\n"
     ]
    }
   ],
   "source": [
    "a = np.random.random((2,3))\n",
    "print(a)\n",
    "\n",
    "b = np.arange(5)\n",
    "print(b)\n",
    "\n",
    "print(b.sum())\n",
    "\n",
    "print(b.min())\n",
    "\n",
    "print(b.max())"
   ]
  },
  {
   "cell_type": "code",
   "execution_count": null,
   "metadata": {},
   "outputs": [],
   "source": []
  }
 ],
 "metadata": {
  "kernelspec": {
   "display_name": "Python 3",
   "language": "python",
   "name": "python3"
  },
  "language_info": {
   "codemirror_mode": {
    "name": "ipython",
    "version": 3
   },
   "file_extension": ".py",
   "mimetype": "text/x-python",
   "name": "python",
   "nbconvert_exporter": "python",
   "pygments_lexer": "ipython3",
   "version": "3.7.3"
  }
 },
 "nbformat": 4,
 "nbformat_minor": 2
}
