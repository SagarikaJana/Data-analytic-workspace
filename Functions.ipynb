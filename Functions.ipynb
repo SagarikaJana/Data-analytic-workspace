{
 "cells": [
  {
   "cell_type": "markdown",
   "metadata": {},
   "source": [
    "# Python Function\n"
   ]
  },
  {
   "cell_type": "code",
   "execution_count": 1,
   "metadata": {},
   "outputs": [],
   "source": [
    "def function_name():\n",
    "    print(\"Hello this is my first function\")\n"
   ]
  },
  {
   "cell_type": "code",
   "execution_count": 2,
   "metadata": {},
   "outputs": [
    {
     "name": "stdout",
     "output_type": "stream",
     "text": [
      "Hello this is my first function\n"
     ]
    }
   ],
   "source": [
    "function_name()"
   ]
  },
  {
   "cell_type": "code",
   "execution_count": 15,
   "metadata": {},
   "outputs": [],
   "source": [
    "def func_para(FirstName):\n",
    "    print(\"My name is \" + FirstName)\n",
    "    "
   ]
  },
  {
   "cell_type": "code",
   "execution_count": 16,
   "metadata": {},
   "outputs": [
    {
     "name": "stdout",
     "output_type": "stream",
     "text": [
      "My name is Shalabh\n"
     ]
    }
   ],
   "source": [
    "func_para(\"Shalabh\")"
   ]
  },
  {
   "cell_type": "code",
   "execution_count": 17,
   "metadata": {},
   "outputs": [
    {
     "name": "stdout",
     "output_type": "stream",
     "text": [
      "My name is Avinash\n"
     ]
    }
   ],
   "source": [
    "func_para(\"Avinash\")"
   ]
  },
  {
   "cell_type": "code",
   "execution_count": 18,
   "metadata": {},
   "outputs": [
    {
     "name": "stdout",
     "output_type": "stream",
     "text": [
      "My name is Anuj\n"
     ]
    }
   ],
   "source": [
    "func_para(\"Anuj\")"
   ]
  },
  {
   "cell_type": "code",
   "execution_count": null,
   "metadata": {},
   "outputs": [],
   "source": []
  },
  {
   "cell_type": "code",
   "execution_count": 21,
   "metadata": {},
   "outputs": [
    {
     "name": "stdout",
     "output_type": "stream",
     "text": [
      "My name is Shalabh\n",
      "My name is Avinash\n",
      "My name is Anuj\n",
      "My name is Vikraman\n",
      "My name is Sharan\n",
      "My name is Vivek\n",
      "My name is Yogi\n",
      "My name is Pune\n",
      "My name is Delhi\n",
      "My name is Kolhapur\n",
      "My name is Gurgaon\n",
      "My name is Mumbai\n",
      "My name is Hyderabad\n"
     ]
    }
   ],
   "source": [
    "Names = [\"Shalabh\",\"Avinash\",\"Anuj\",\"Vikraman\",\"Sharan\",\"Vivek\",\"Yogi\"]\n",
    "def func_Name(xyz):\n",
    "    for x in xyz:\n",
    "        print(\"My name is \"+ x)\n",
    "        \n",
    "        \n",
    "func_Name(Names)\n",
    "NameCity = [\"Pune\",\"Delhi\",\"Kolhapur\",\"Gurgaon\",\"Mumbai\",\"Hyderabad\"]\n",
    "func_Name(NameCity)"
   ]
  },
  {
   "cell_type": "code",
   "execution_count": 22,
   "metadata": {},
   "outputs": [
    {
     "name": "stdout",
     "output_type": "stream",
     "text": [
      "My name is Pune\n",
      "My name is Delhi\n",
      "My name is Kolhapur\n",
      "My name is Gurgaon\n",
      "My name is Mumbai\n",
      "My name is Hyderabad\n"
     ]
    }
   ],
   "source": [
    "func_Name(NameCity)"
   ]
  },
  {
   "cell_type": "code",
   "execution_count": 23,
   "metadata": {},
   "outputs": [
    {
     "name": "stdout",
     "output_type": "stream",
     "text": [
      "My name is Peacock\n",
      "My name is Crow\n",
      "My name is Mynah\n"
     ]
    }
   ],
   "source": [
    "Birds = [\"Peacock\",\"Crow\",\"Mynah\"]\n",
    "func_Name(Birds)"
   ]
  },
  {
   "cell_type": "code",
   "execution_count": 27,
   "metadata": {},
   "outputs": [
    {
     "name": "stdout",
     "output_type": "stream",
     "text": [
      "300000\n",
      "343400\n"
     ]
    }
   ],
   "source": [
    "def mul_oper(x):\n",
    "    #x = 5\n",
    "    #return 5*x\n",
    "    return 100*x\n",
    "\n",
    "print(mul_oper(3000))\n",
    "print(mul_oper(3434))"
   ]
  },
  {
   "cell_type": "code",
   "execution_count": null,
   "metadata": {},
   "outputs": [],
   "source": []
  }
 ],
 "metadata": {
  "kernelspec": {
   "display_name": "Python 3",
   "language": "python",
   "name": "python3"
  },
  "language_info": {
   "codemirror_mode": {
    "name": "ipython",
    "version": 3
   },
   "file_extension": ".py",
   "mimetype": "text/x-python",
   "name": "python",
   "nbconvert_exporter": "python",
   "pygments_lexer": "ipython3",
   "version": "3.7.3"
  }
 },
 "nbformat": 4,
 "nbformat_minor": 2
}
