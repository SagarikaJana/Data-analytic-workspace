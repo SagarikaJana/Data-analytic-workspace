{
 "cells": [
  {
   "cell_type": "code",
   "execution_count": 1,
   "metadata": {},
   "outputs": [],
   "source": [
    "# Importing our packages\n",
    "import numpy as np\n",
    "from scipy import stats"
   ]
  },
  {
   "cell_type": "code",
   "execution_count": 5,
   "metadata": {},
   "outputs": [
    {
     "data": {
      "text/plain": [
       "array([2.87332771, 2.42641517, 2.41979056, 2.73380977, 2.30376142,\n",
       "       2.42366628, 2.25307927, 2.09998523, 2.5676114 , 2.39577906])"
      ]
     },
     "execution_count": 5,
     "metadata": {},
     "output_type": "execute_result"
    }
   ],
   "source": [
    "# Generate some random data to use for computing T Statistics\n",
    "N = 10 # Sample size\n",
    "# Create some Gaussian Distribution data with \n",
    "a = np.random.rand(N)+2\n",
    "a\n",
    "# Sample1 = [3,4,5,6,7,1,2,0]\n",
    "# Sample2 = [2,4,5,8,2,1,3,4]\n",
    "# Calculate t value and p value and compute the relevant statistics and report"
   ]
  },
  {
   "cell_type": "code",
   "execution_count": 6,
   "metadata": {},
   "outputs": [
    {
     "data": {
      "text/plain": [
       "array([1.19480008, 1.36373809, 1.20010255, 1.98769993, 1.31265806,\n",
       "       1.90935042, 1.90026506, 1.72307722, 1.17787247, 1.89285666])"
      ]
     },
     "execution_count": 6,
     "metadata": {},
     "output_type": "execute_result"
    }
   ],
   "source": [
    "b = np.random.rand(N)+1\n",
    "b"
   ]
  },
  {
   "cell_type": "code",
   "execution_count": null,
   "metadata": {},
   "outputs": [],
   "source": [
    "# Let us compute the Null Hypothesis and the Alternate Hypothesis\n",
    "# Ho : There is no significant difference between the two samples\n",
    "# Ha : There is difference between the two samples "
   ]
  },
  {
   "cell_type": "code",
   "execution_count": 10,
   "metadata": {},
   "outputs": [
    {
     "name": "stdout",
     "output_type": "stream",
     "text": [
      "0.05126245199033555\n",
      "0.11848519268053631\n"
     ]
    }
   ],
   "source": [
    "# Calculate the variance  and derive the std deviation\n",
    "var_a = a.var(ddof =1)\n",
    "print(var_a)\n",
    "var_b = b.var(ddof =1)\n",
    "print(var_b)"
   ]
  },
  {
   "cell_type": "code",
   "execution_count": 19,
   "metadata": {},
   "outputs": [
    {
     "name": "stdout",
     "output_type": "stream",
     "text": [
      "0.22641212862904572\n",
      "0.3442167815207973\n",
      "0.28531445507492154\n"
     ]
    },
    {
     "data": {
      "text/plain": [
       "0.2913311214673707"
      ]
     },
     "execution_count": 19,
     "metadata": {},
     "output_type": "execute_result"
    }
   ],
   "source": [
    "# Std Deviation\n",
    "s_a = np.sqrt(var_a)\n",
    "print(s_a)\n",
    "s_b = np.sqrt(var_b)\n",
    "print(s_b)\n",
    "print((s_a+s_b)/2)\n",
    "s = np.sqrt((var_a + var_b)/2)\n",
    "s"
   ]
  },
  {
   "cell_type": "code",
   "execution_count": 12,
   "metadata": {},
   "outputs": [
    {
     "data": {
      "text/plain": [
       "2.4497225866470367"
      ]
     },
     "execution_count": 12,
     "metadata": {},
     "output_type": "execute_result"
    }
   ],
   "source": [
    "a.mean()"
   ]
  },
  {
   "cell_type": "code",
   "execution_count": 13,
   "metadata": {},
   "outputs": [
    {
     "data": {
      "text/plain": [
       "1.566242054248382"
      ]
     },
     "execution_count": 13,
     "metadata": {},
     "output_type": "execute_result"
    }
   ],
   "source": [
    "b.mean()"
   ]
  },
  {
   "cell_type": "code",
   "execution_count": 22,
   "metadata": {},
   "outputs": [
    {
     "name": "stdout",
     "output_type": "stream",
     "text": [
      "6.7810212561254195\n"
     ]
    }
   ],
   "source": [
    "# Computing the T Statistic\n",
    "t = (a.mean() - b.mean())/(s*np.sqrt(2/N))\n",
    "print(t)"
   ]
  },
  {
   "cell_type": "code",
   "execution_count": 24,
   "metadata": {},
   "outputs": [
    {
     "data": {
      "text/plain": [
       "18"
      ]
     },
     "execution_count": 24,
     "metadata": {},
     "output_type": "execute_result"
    }
   ],
   "source": [
    "# Comparing with the Critical T value\n",
    "df = 2*N - 2\n",
    "df"
   ]
  },
  {
   "cell_type": "code",
   "execution_count": 35,
   "metadata": {},
   "outputs": [
    {
     "name": "stdout",
     "output_type": "stream",
     "text": [
      "1.1850603173213514e-06\n",
      "p value = 0.00\n"
     ]
    }
   ],
   "source": [
    "p = 1 - stats.t.cdf(t,df=df)\n",
    "print(p)\n",
    "print(\"p value = %.2f\" %(p))"
   ]
  },
  {
   "cell_type": "code",
   "execution_count": null,
   "metadata": {},
   "outputs": [],
   "source": [
    "# If p is low then Null should go \n",
    "# p is tending towards 0.00 so there is very likely hood that the probability of \n",
    "# Ho being true is low. So we can reject the Null Hypothesis and Accept the Alternate Hypothesis"
   ]
  }
 ],
 "metadata": {
  "kernelspec": {
   "display_name": "Python 3",
   "language": "python",
   "name": "python3"
  },
  "language_info": {
   "codemirror_mode": {
    "name": "ipython",
    "version": 3
   },
   "file_extension": ".py",
   "mimetype": "text/x-python",
   "name": "python",
   "nbconvert_exporter": "python",
   "pygments_lexer": "ipython3",
   "version": "3.7.3"
  }
 },
 "nbformat": 4,
 "nbformat_minor": 2
}
