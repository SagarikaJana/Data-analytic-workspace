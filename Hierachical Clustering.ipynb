{
 "cells": [
  {
   "cell_type": "code",
   "execution_count": 5,
   "metadata": {},
   "outputs": [
    {
     "data": {
      "text/plain": [
       "array([[ 1,  2],\n",
       "       [ 3,  5],\n",
       "       [ 5,  3],\n",
       "       [15, 10],\n",
       "       [12, 15],\n",
       "       [24, 10],\n",
       "       [70, 75],\n",
       "       [72, 76],\n",
       "       [80, 91]])"
      ]
     },
     "execution_count": 5,
     "metadata": {},
     "output_type": "execute_result"
    }
   ],
   "source": [
    "import numpy as np\n",
    "import matplotlib.pyplot as plt\n",
    "%\n",
    "x = np.array([[1,2],[3,5],[5,3],[15,10],[12,15],[24,10],[70,75],[72,76],[80,91]])\n",
    "x"
   ]
  },
  {
   "cell_type": "code",
   "execution_count": 12,
   "metadata": {},
   "outputs": [
    {
     "data": {
      "text/plain": [
       "{'icoord': [[15.0, 15.0, 25.0, 25.0],\n",
       "  [5.0, 5.0, 20.0, 20.0],\n",
       "  [45.0, 45.0, 55.0, 55.0],\n",
       "  [35.0, 35.0, 50.0, 50.0],\n",
       "  [12.5, 12.5, 42.5, 42.5],\n",
       "  [75.0, 75.0, 85.0, 85.0],\n",
       "  [65.0, 65.0, 80.0, 80.0],\n",
       "  [27.5, 27.5, 72.5, 72.5]],\n",
       " 'dcoord': [[0.0, 2.8284271247461903, 2.8284271247461903, 0.0],\n",
       "  [0.0, 3.605551275463989, 3.605551275463989, 2.8284271247461903],\n",
       "  [0.0, 5.830951894845301, 5.830951894845301, 0.0],\n",
       "  [0.0, 9.0, 9.0, 5.830951894845301],\n",
       "  [3.605551275463989, 12.206555615733702, 12.206555615733702, 9.0],\n",
       "  [0.0, 2.23606797749979, 2.23606797749979, 0.0],\n",
       "  [0.0, 17.0, 17.0, 2.23606797749979],\n",
       "  [12.206555615733702, 79.63039620647382, 79.63039620647382, 17.0]],\n",
       " 'ivl': ['0', '1', '2', '5', '3', '4', '8', '6', '7'],\n",
       " 'leaves': [0, 1, 2, 5, 3, 4, 8, 6, 7],\n",
       " 'color_list': ['g', 'g', 'g', 'g', 'g', 'r', 'r', 'b']}"
      ]
     },
     "execution_count": 12,
     "metadata": {},
     "output_type": "execute_result"
    },
    {
     "data": {
      "text/plain": [
       "<Figure size 720x1080 with 0 Axes>"
      ]
     },
     "metadata": {},
     "output_type": "display_data"
    },
    {
     "data": {
      "image/png": "[encoded data removed]",
      "text/plain": [
       "<Figure size 720x504 with 1 Axes>"
      ]
     },
     "metadata": {
      "needs_background": "light"
     },
     "output_type": "display_data"
    }
   ],
   "source": [
    "labels = range(1,11)\n",
    "plt.figure(figsize =(10,15))\n",
    "plt.subplots_adjust(bottom = 0.1)\n",
    "\n",
    "#plt.scatter(x[:0],x[:1],label =\"True Position\")\n",
    "from scipy.cluster.hierarchy import dendrogram, linkage\n",
    " \n",
    "linked = linkage(x,'single')\n",
    "lablelist = range(1,11)\n",
    "plt.figure(figsize = (10,7))\n",
    "dendrogram(linked, p=30, truncate_mode=None, color_threshold=None, get_leaves=True, orientation='top', labels=None, count_sort=False, distance_sort=False, show_leaf_counts=True, no_plot=False, no_labels=False, leaf_font_size=None, leaf_rotation=None, leaf_label_func=None, show_contracted=False, link_color_func=None, ax=None, above_threshold_color='b')"
   ]
  },
  {
   "cell_type": "code",
   "execution_count": null,
   "metadata": {},
   "outputs": [],
   "source": []
  }
 ],
 "metadata": {
  "kernelspec": {
   "display_name": "Python 3",
   "language": "python",
   "name": "python3"
  },
  "language_info": {
   "codemirror_mode": {
    "name": "ipython",
    "version": 3
   },
   "file_extension": ".py",
   "mimetype": "text/x-python",
   "name": "python",
   "nbconvert_exporter": "python",
   "pygments_lexer": "ipython3",
   "version": "3.7.3"
  }
 },
 "nbformat": 4,
 "nbformat_minor": 2
}
